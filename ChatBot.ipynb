# EXPLICAÇÃO 

# CADA CÉLULA DE CÓDIGO COM EXCESSÃO DA PRIMEIRA REPRESENTA UM CLASSIFICADOR UTILIZANDO DE DIFERENTES PARÂMETROS
# 1ª CÉLULA - CLASSIFICADOR: KNN | NESTA CÉLULA FOI UTILIZADO O KNN COM OS PARÂMETROS SUGIRADOS PELO GRIDSEARCH, BUSCANDO OS MELHORES VALORES DE ACCURACY, PRECISION E RECALL
# 2ª CÉLULA - CLASSIFICADOR: KNN | NESTA CÉLULA FOI UTILIZADO O KNN COM OS PARÂMETROS "DEFAULT", ONDE PODEMOS ANALISAR UMA MAIOR IMPRECISSÃO DOS DADOS
# 3ª CÉLULA - CLASSIFICADOR: DECISION TREE | NESTA CÉLULA FOI UTILIZADO A DECISION TREE COM OS PARÂMETROS SUGIRADOS PELO GRIDSEARCH, BUSCANDO OS MELHORES VALORES DE ACCURACY, PRECISION E RECALL
# 4ª CÉLULA - CLASSIFICADOR: DECISION TREE | NESTA CÉLULA FOI UTILIZADO A DECISION OM OS PARÂMETROS "DEFAULT", ONDE PODEMOS ANALISAR UMA MAIOR IMPRECISSÃO DOS RESULTADOS

from sklearn.feature_extraction.text import TfidfVectorizer
import numpy as np
from sklearn.neighbors import KNeighborsClassifier
from sklearn.metrics import accuracy_score
from sklearn.model_selection import LeaveOneOut
from sklearn.tree import DecisionTreeClassifier
from sklearn.metrics import precision_score
from sklearn.metrics import recall_score
from sklearn.linear_model import LinearRegression
from sklearn.model_selection import GridSearchCV
from sklearn.multiclass import OneVsRestClassifier
from sklearn import preprocessing
from sklearn import metrics
from sklearn.metrics import make_scorer

vectorizer = TfidfVectorizer(sublinear_tf=True, max_df=0.5,strip_accents='unicode')
#BASE DE DADOS
corpus = ['Quanto recebo de hora extra?','Qual o valor da minha hora extra?','Trabalhei a mais, quanto devo receber?','Quanto recebo por fazer hora extra?', 'Fiz hora extra, quanto devo receber?',
          'Valor da hora extra','Hora extra','Trabalhei fora do horário, como calcular hora extra','Quanto devo receber por trabalhar fora de horário?','Tenho trabalhado depois do expediente, quanto recebo por esse período?',
          '1100 e 8 horas diarias','1276,00 e 6 horas diárias','1100.00 e 6hrs','1276 e 8 horas','1100,00 e 6 horas',
          '1000,50 6 horas','1500,50 8hrs','3000 e 8 horas diárias','2000 trabalho 8 horas','3000 trabalho por 6 hrs',          
          'Quando tenho direito à férias?','Informações sobre as férias','Informações sobre período de férias coletivas','Quanto tempo tenho para pagar as férias de um funcionário?','Tenho duas férias vencidas, como recebo?',
          'Quantos dias de férias podem ser vendidos?','Como posso dividir minhas férias?','Posso dividir minhas férias em quantas vezes?','Quantos dias tenho de férias?','Quando recebo o pagamento das férias?',
          'Data de entrega do imposto de renda','Qual a data de entrega do imposto de renda?','Imposto de renda','Informações sobre o imposto de renda','Preciso pagar imposto de renda?',
          'Quanto eu pago de imposto de renda','Imposto de renda para quem aplica na bolsa','Data de entrega do IR','Informações sobre o IR','Ganhei na loteria, preciso apresentar IR?',
          'Informação sobre recissão de contrato','Quero pedir demissão, o quê preciso fazer?','O que preciso fazer para demitir um funcionário?','Como mandar um funcionário embora?','Como funciona a rescisão de contrato?',
          'O que preciso fazer para mandar um funcionário embora?','Como realizar a resissão de contrato de um funcionário','Quais os documentos necessário para a recisão de contrato de um funcionário','Informações necessárias para a resissão de um funcionário','Meu funcionário pediu demissão, o que devo fazer?',
          'O que devo fazer para contratar um funcionário?','Informações sobre contratação de funcionários','Como contratar um funcionário','Documentos necessários para a contratação de um funcionário','Como fazer a admissão de um funcionário?',
          'Quais os documentos necessários para a admissão de um funcionário','Informações sobre exame admissional','Onde fazer exame admissional?','O que preciso para ser contratado','Preciso fazer exame médico para ser contratado?',
          'resissão','Informações sobre rescisão','rescissão'          
          ]
x = vectorizer.fit_transform(corpus)
#CLASSES
y = np.array(['hora extra','hora extra','hora extra','hora extra','hora extra','hora extra','hora extra','hora extra','hora extra','hora extra',
              'salário e horas','salário e horas','salário e horas','salário e horas','salário e horas','salário e horas','salário e horas','salário e horas','salário e horas','salário e horas',
              'férias','férias','férias','férias','férias','férias','férias','férias','férias','férias',
              'imposto de renda','imposto de renda','imposto de renda','imposto de renda','imposto de renda','imposto de renda','imposto de renda','imposto de renda','imposto de renda','imposto de renda',
              'recissão','recissão','recissão','recissão','recissão','recissão','recissão','recissão','recissão','recissão',
              'contratação','contratação','contratação','contratação','contratação','contratação','contratação','contratação','contratação','contratação','recissão',
              'recissão','recissão'
              ])

dt = DecisionTreeClassifier()
loo = LeaveOneOut()
y_true_knn, y_pred_knn = list(), list()
y_true_dt, y_pred_dt = list(), list()
y_true, y_pred = list(), list()
knn = KNeighborsClassifier()
#aux_knn = 0

#DEFINIÇÃO DAS METRICAS AVALIDAS PELO GRIDSEARCH / greater_is_better é usado para garantir que sempre teremos o maior valor encontrado para as 3 métricas
metrics = {'accuracy' : make_scorer(accuracy_score, greater_is_better=True), 
          'precision' : make_scorer(precision_score, average = 'micro', greater_is_better=True),
          'recall' : make_scorer(recall_score, average = 'micro', greater_is_better=True)} 

#DEFINIÇÃO DOS PARAMETROS QUE SÃO USADOS PELA GRIDSEARCH PARA ENCONTRAR O MELHOR ESTIMADOR DA DECISION TREE
#params_grid_decisionTree = {'criterion':['gini','entropy'], 'max_depth':[2,4,5,6,8,10,12]}

#DEFINIÇÃO DOS PARAMETROS QUE SERÃO USADOS PELO GRIDSEARCH PARA ENCONTRAR O MELHOR ESTIMADOR DO KNN
params_grid_knn = {'n_neighbors':[1,2,3,4,5,6,7,8,9,10,11,19], 'weights':['uniform','distance'], 'metric':['euclidean','manhattan']}

#DEFINIÇÃO DO GRIDSEARCH KNN
grid_knn = GridSearchCV(KNeighborsClassifier(), param_grid=params_grid_knn, scoring=metrics, refit='accuracy', return_train_score=False)

#grid_knn.fit(X_train,y_train)

for train_index, test_index in loo.split(x):
      print("----------------------------------------------------------")
      print("TRAIN:", train_index, "TEST:", test_index)
      X_train, X_test = x[train_index, :], x[test_index, :]
      y_train, y_test = y[train_index], y[test_index]
      knn.fit(X_train, y_train)
      grid_knn.fit(X_train,y_train)
      dt.fit(X_train, y_train)
      inst = grid_knn.predict(X_test)
      print("Esperado: " + y_test[0] + " | Teste: " + inst[0])
      y_true_knn.append(y_test[0])
      y_pred_knn.append(inst[0])
      inst2 = dt.predict(X_test)
      y_true_dt.append(y_test)
      y_pred_dt.append(inst2[0])
      inst3 = knn.predict(X_test)
      y_true.append(y_test)
      y_pred.append(inst3[0])
      #if y_test[0] != inst[0]:
        #aux_knn = aux_knn +1
        #print("Errado!")
print("\n------------PARÂMETROS DO MELHOR CLASSIFICADOR USANDO GRID SEARCH-------------")
print('Melhor preditor utilizando GridSearch: ' + str(grid_knn.best_estimator_))
print('Parâmetro "algorithm": ' + grid_knn.best_estimator_.get_params()['algorithm'])
print('Parâmetro "leaf_size": ' + str(grid_knn.best_estimator_.get_params()['leaf_size']))
print('Parâmetro "metric": ' + grid_knn.best_estimator_.get_params()['metric'])
print('Parâmetro "metric_params": ' + str(grid_knn.best_estimator_.get_params()['metric_params']))
print('Parâmetro "n_jobs": ' + str(grid_knn.best_estimator_.get_params()['n_jobs']))
print('Parâmetro "n_neighbors": ' + str(grid_knn.best_estimator_.get_params()['n_neighbors']))
print('Parâmetro "p": ' + str(grid_knn.best_estimator_.get_params()['p']))
print('Parâmetro "weights": ' + grid_knn.best_estimator_.get_params()['weights'])
print("\n---------------------MÉTRICAS DO KNN (USANDO GRID SEARCH)----------------------")
acc_knn = accuracy_score(y_true_knn, y_pred_knn)
print('Accuracy: ' + str(acc_knn)) 
presc_knn = precision_score(y_true_knn, y_pred_knn, average="macro")
print('Precision: ' + str(presc_knn))
recall_knn = recall_score(y_true_knn, y_pred_knn, average="macro")
print('Recall: ' + str(recall_knn))
#print('A IA errou ' + str(aux_knn) + ' vez(s)')
print("---------------------------MÉTRICAS DA DECISION TREE---------------------------")
acc_dt = accuracy_score(y_true_dt, y_pred_dt)
print('Accuracy: ' + str(acc_dt))
presc_dt = precision_score(y_true_dt, y_pred_dt, average="macro")
print('Precision: ' + str(presc_dt))
recall_dt = recall_score(y_true_dt, y_pred_dt, average="macro")
print('Recall: ' + str(recall_dt))
#print('A IA errou ' + str(aux_dt) + ' vez(s)')
print("----------------------------MÉTRICAS DO KNN PADRÃO----------------------------")
acc = accuracy_score(y_true, y_pred)
print('Accuracy: ' + str(acc)) 
presc = precision_score(y_true, y_pred, average="macro")
print('Precision: ' + str(presc))
recall = recall_score(y_true, y_pred, average="macro")
print('Recall: ' + str(recall))
